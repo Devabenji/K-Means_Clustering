{
 "cells": [
  {
   "cell_type": "code",
   "id": "initial_id",
   "metadata": {
    "collapsed": true
   },
   "source": [
    "import pandas as pd\n",
    "import matplotlib.pyplot as plt\n",
    "\n",
    "from sklearn.preprocessing import StandardScaler\n",
    "from sklearn.cluster import KMeans\n",
    "\n",
    "\n",
    "# Load the FIFA dataset\n",
    "players_info = pd.read_csv('Fifa_Players.csv')\n",
    "players_info.head()\n"
   ],
   "outputs": [],
   "execution_count": null
  },
  {
   "metadata": {},
   "cell_type": "code",
   "source": "players_info.shape",
   "id": "d2f58bd09c57e08d",
   "outputs": [],
   "execution_count": null
  },
  {
   "metadata": {},
   "cell_type": "code",
   "source": "players_features = pd.DataFrame(pd.read_csv('Fifa_Players.csv', usecols= ['overall','potential','value_eur','wage_eur','age']))",
   "id": "65cdc76653dd039d",
   "outputs": [],
   "execution_count": null
  },
  {
   "metadata": {},
   "cell_type": "code",
   "source": "players_features.head()",
   "id": "7ec6ed48d7a9b689",
   "outputs": [],
   "execution_count": null
  },
  {
   "metadata": {},
   "cell_type": "code",
   "source": "players_features.describe()",
   "id": "84e0593d81d34557",
   "outputs": [],
   "execution_count": null
  },
  {
   "metadata": {},
   "cell_type": "code",
   "source": "players_features.info",
   "id": "1d0664f1a30a2975",
   "outputs": [],
   "execution_count": null
  },
  {
   "metadata": {},
   "cell_type": "code",
   "source": "players_features = players_features.dropna()",
   "id": "ea79d7f7eced473f",
   "outputs": [],
   "execution_count": null
  },
  {
   "metadata": {},
   "cell_type": "code",
   "source": "players_features.head",
   "id": "31924c50ce34bdf5",
   "outputs": [],
   "execution_count": null
  },
  {
   "metadata": {},
   "cell_type": "code",
   "source": "players_features.describe()",
   "id": "bb5e6b32b832c65a",
   "outputs": [],
   "execution_count": null
  },
  {
   "metadata": {},
   "cell_type": "code",
   "source": "scaler = StandardScaler()",
   "id": "df7578a032504f2f",
   "outputs": [],
   "execution_count": null
  },
  {
   "metadata": {},
   "cell_type": "code",
   "source": "players_features_sc = scaler.fit_transform(players_features)",
   "id": "ddd09545a2e2fc9a",
   "outputs": [],
   "execution_count": null
  },
  {
   "metadata": {},
   "cell_type": "code",
   "source": "players_features_sc",
   "id": "41610dd2057e2c00",
   "outputs": [],
   "execution_count": null
  },
  {
   "metadata": {},
   "cell_type": "code",
   "source": [
    "def best_k_Means(data, k_max):\n",
    "    means = []\n",
    "    intertias = []\n",
    "\n",
    "    for k in range(1, k_max):\n",
    "        kmeans = KMeans(n_clusters=k)\n",
    "        kmeans.fit(data)\n",
    "        means.append(k)\n",
    "        intertias.append(kmeans.inertia_)\n",
    "\n",
    "    fit = plt.subplots(figsize = (10,10))\n",
    "    plt.plot(means, intertias, 'o' )\n",
    "    plt.xlabel('k Values')\n",
    "    plt.ylabel('Intertias')\n",
    "    plt.grid(True)\n",
    "    plt.show()\n"
   ],
   "id": "77f94361391547a2",
   "outputs": [],
   "execution_count": null
  },
  {
   "metadata": {},
   "cell_type": "code",
   "source": "best_k_Means(players_features_sc, 10)",
   "id": "1b0ed844437676a8",
   "outputs": [],
   "execution_count": null
  },
  {
   "metadata": {},
   "cell_type": "code",
   "source": "kmeans = KMeans(n_clusters=3)",
   "id": "f8a08a1091711d31",
   "outputs": [],
   "execution_count": null
  },
  {
   "metadata": {},
   "cell_type": "code",
   "source": "kmeans.fit(players_features_sc)",
   "id": "fe9474bcd30f48bb",
   "outputs": [],
   "execution_count": null
  },
  {
   "metadata": {},
   "cell_type": "code",
   "source": "players_features.insert(5,'k3',kmeans.labels_)",
   "id": "c45a77f381747513",
   "outputs": [],
   "execution_count": null
  },
  {
   "metadata": {},
   "cell_type": "code",
   "source": "players_features.head()",
   "id": "957cd16651123e3d",
   "outputs": [],
   "execution_count": null
  },
  {
   "metadata": {},
   "cell_type": "code",
   "source": "players_features.tail()",
   "id": "30f9735f14503951",
   "outputs": [],
   "execution_count": null
  },
  {
   "metadata": {},
   "cell_type": "code",
   "source": "plt.scatter(x=players_features['overall'], y=players_features['potential'], c = players_features['k3'])",
   "id": "33878aa168e61a99",
   "outputs": [],
   "execution_count": null
  },
  {
   "metadata": {},
   "cell_type": "code",
   "source": "plt.show()",
   "id": "8c26972cf1703fac",
   "outputs": [],
   "execution_count": null
  },
  {
   "metadata": {},
   "cell_type": "code",
   "source": [
    "kmeans = KMeans(n_clusters=2)\n",
    "kmeans.fit(players_features_sc)\n",
    "players_features.insert(6,'k2',kmeans.labels_)\n",
    "players_features.head()"
   ],
   "id": "ec6c6540f9ed9d37",
   "outputs": [],
   "execution_count": null
  },
  {
   "metadata": {},
   "cell_type": "code",
   "source": [
    "plt.scatter(x=players_features['overall'], y=players_features['potential'], c = players_features['k2'])\n",
    "plt.show()"
   ],
   "id": "2c37309ffca04b5c",
   "outputs": [],
   "execution_count": null
  },
  {
   "metadata": {},
   "cell_type": "code",
   "source": "",
   "id": "ac2414ff7d9fc5e7",
   "outputs": [],
   "execution_count": null
  }
 ],
 "metadata": {
  "kernelspec": {
   "display_name": "Python 3",
   "language": "python",
   "name": "python3"
  },
  "language_info": {
   "codemirror_mode": {
    "name": "ipython",
    "version": 2
   },
   "file_extension": ".py",
   "mimetype": "text/x-python",
   "name": "python",
   "nbconvert_exporter": "python",
   "pygments_lexer": "ipython2",
   "version": "2.7.6"
  }
 },
 "nbformat": 4,
 "nbformat_minor": 5
}
